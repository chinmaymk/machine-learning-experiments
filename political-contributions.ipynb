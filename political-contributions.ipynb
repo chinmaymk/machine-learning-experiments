{
 "cells": [
  {
   "cell_type": "code",
   "execution_count": 28,
   "metadata": {
    "collapsed": true
   },
   "outputs": [],
   "source": [
    "import pandas as pd\n",
    "import matplotlib.pyplot as plt\n",
    "%matplotlib inline"
   ]
  },
  {
   "cell_type": "code",
   "execution_count": 19,
   "metadata": {
    "collapsed": false
   },
   "outputs": [],
   "source": [
    "data = pd.read_csv(\"./data/political_contributions.csv\", skipinitialspace=True, index_col=False)"
   ]
  },
  {
   "cell_type": "code",
   "execution_count": 32,
   "metadata": {
    "collapsed": false
   },
   "outputs": [
    {
     "data": {
      "text/html": [
       "<div>\n",
       "<table border=\"1\" class=\"dataframe\">\n",
       "  <thead>\n",
       "    <tr style=\"text-align: right;\">\n",
       "      <th></th>\n",
       "      <th>cmte_id</th>\n",
       "      <th>cand_id</th>\n",
       "      <th>cand_nm</th>\n",
       "      <th>contbr_nm</th>\n",
       "      <th>contbr_city</th>\n",
       "      <th>contbr_st</th>\n",
       "      <th>contbr_zip</th>\n",
       "      <th>contbr_employer</th>\n",
       "      <th>contbr_occupation</th>\n",
       "      <th>contb_receipt_amt</th>\n",
       "      <th>contb_receipt_dt</th>\n",
       "      <th>receipt_desc</th>\n",
       "      <th>memo_cd</th>\n",
       "      <th>memo_text</th>\n",
       "      <th>form_tp</th>\n",
       "      <th>file_num</th>\n",
       "      <th>tran_id</th>\n",
       "      <th>election_tp</th>\n",
       "    </tr>\n",
       "  </thead>\n",
       "  <tbody>\n",
       "    <tr>\n",
       "      <th>0</th>\n",
       "      <td>C00577130</td>\n",
       "      <td>P60007168</td>\n",
       "      <td>Sanders, Bernard</td>\n",
       "      <td>DIMELER, KIRA</td>\n",
       "      <td>SAN FRANCISCO</td>\n",
       "      <td>CA</td>\n",
       "      <td>941322331</td>\n",
       "      <td>AECHELON TECHNOLOGY, INC.</td>\n",
       "      <td>SR. GEOTYPICAL PRODUCTION ASSISTANT</td>\n",
       "      <td>50.00</td>\n",
       "      <td>12-AUG-15</td>\n",
       "      <td>NaN</td>\n",
       "      <td>NaN</td>\n",
       "      <td>* EARMARKED CONTRIBUTION: SEE BELOW</td>\n",
       "      <td>SA17A</td>\n",
       "      <td>1029414</td>\n",
       "      <td>VPF7BETMZC9</td>\n",
       "      <td>P2016</td>\n",
       "    </tr>\n",
       "    <tr>\n",
       "      <th>1</th>\n",
       "      <td>C00577130</td>\n",
       "      <td>P60007168</td>\n",
       "      <td>Sanders, Bernard</td>\n",
       "      <td>GOMPERTZ, STEVE</td>\n",
       "      <td>ARCATA</td>\n",
       "      <td>CA</td>\n",
       "      <td>955184778</td>\n",
       "      <td>NOT EMPLOYED</td>\n",
       "      <td>NOT EMPLOYED</td>\n",
       "      <td>100.00</td>\n",
       "      <td>21-AUG-15</td>\n",
       "      <td>NaN</td>\n",
       "      <td>NaN</td>\n",
       "      <td>* EARMARKED CONTRIBUTION: SEE BELOW</td>\n",
       "      <td>SA17A</td>\n",
       "      <td>1029414</td>\n",
       "      <td>VPF7BEZ11H8</td>\n",
       "      <td>P2016</td>\n",
       "    </tr>\n",
       "    <tr>\n",
       "      <th>2</th>\n",
       "      <td>C00577130</td>\n",
       "      <td>P60007168</td>\n",
       "      <td>Sanders, Bernard</td>\n",
       "      <td>GOODMAN, ALBERT</td>\n",
       "      <td>CLAREMONT</td>\n",
       "      <td>CA</td>\n",
       "      <td>917112746</td>\n",
       "      <td>NOT EMPLOYED</td>\n",
       "      <td>NOT EMPLOYED</td>\n",
       "      <td>1000.00</td>\n",
       "      <td>21-AUG-15</td>\n",
       "      <td>NaN</td>\n",
       "      <td>NaN</td>\n",
       "      <td>* EARMARKED CONTRIBUTION: SEE BELOW</td>\n",
       "      <td>SA17A</td>\n",
       "      <td>1029414</td>\n",
       "      <td>VPF7BEYTAX6</td>\n",
       "      <td>P2016</td>\n",
       "    </tr>\n",
       "    <tr>\n",
       "      <th>3</th>\n",
       "      <td>C00577130</td>\n",
       "      <td>P60007168</td>\n",
       "      <td>Sanders, Bernard</td>\n",
       "      <td>GRAHAM, RICHARD</td>\n",
       "      <td>SAN DIEGO</td>\n",
       "      <td>CA</td>\n",
       "      <td>921062742</td>\n",
       "      <td>SELF</td>\n",
       "      <td>SELF</td>\n",
       "      <td>5.00</td>\n",
       "      <td>21-AUG-15</td>\n",
       "      <td>NaN</td>\n",
       "      <td>NaN</td>\n",
       "      <td>* EARMARKED CONTRIBUTION: SEE BELOW</td>\n",
       "      <td>SA17A</td>\n",
       "      <td>1029414</td>\n",
       "      <td>VPF7BEYZ989</td>\n",
       "      <td>P2016</td>\n",
       "    </tr>\n",
       "    <tr>\n",
       "      <th>4</th>\n",
       "      <td>C00577130</td>\n",
       "      <td>P60007168</td>\n",
       "      <td>Sanders, Bernard</td>\n",
       "      <td>NEWHART, JOY M.</td>\n",
       "      <td>OAKLAND</td>\n",
       "      <td>CA</td>\n",
       "      <td>946073379</td>\n",
       "      <td>NOT EMPLOYED</td>\n",
       "      <td>NOT EMPLOYED</td>\n",
       "      <td>196.16</td>\n",
       "      <td>23-AUG-15</td>\n",
       "      <td>NaN</td>\n",
       "      <td>NaN</td>\n",
       "      <td>NaN</td>\n",
       "      <td>SA17A</td>\n",
       "      <td>1029414</td>\n",
       "      <td>VPF7BFBQNF2</td>\n",
       "      <td>P2016</td>\n",
       "    </tr>\n",
       "  </tbody>\n",
       "</table>\n",
       "</div>"
      ],
      "text/plain": [
       "     cmte_id    cand_id           cand_nm        contbr_nm    contbr_city  \\\n",
       "0  C00577130  P60007168  Sanders, Bernard    DIMELER, KIRA  SAN FRANCISCO   \n",
       "1  C00577130  P60007168  Sanders, Bernard  GOMPERTZ, STEVE         ARCATA   \n",
       "2  C00577130  P60007168  Sanders, Bernard  GOODMAN, ALBERT      CLAREMONT   \n",
       "3  C00577130  P60007168  Sanders, Bernard  GRAHAM, RICHARD      SAN DIEGO   \n",
       "4  C00577130  P60007168  Sanders, Bernard  NEWHART, JOY M.        OAKLAND   \n",
       "\n",
       "  contbr_st contbr_zip            contbr_employer  \\\n",
       "0        CA  941322331  AECHELON TECHNOLOGY, INC.   \n",
       "1        CA  955184778               NOT EMPLOYED   \n",
       "2        CA  917112746               NOT EMPLOYED   \n",
       "3        CA  921062742                       SELF   \n",
       "4        CA  946073379               NOT EMPLOYED   \n",
       "\n",
       "                     contbr_occupation  contb_receipt_amt contb_receipt_dt  \\\n",
       "0  SR. GEOTYPICAL PRODUCTION ASSISTANT              50.00        12-AUG-15   \n",
       "1                         NOT EMPLOYED             100.00        21-AUG-15   \n",
       "2                         NOT EMPLOYED            1000.00        21-AUG-15   \n",
       "3                                 SELF               5.00        21-AUG-15   \n",
       "4                         NOT EMPLOYED             196.16        23-AUG-15   \n",
       "\n",
       "  receipt_desc memo_cd                            memo_text form_tp  file_num  \\\n",
       "0          NaN     NaN  * EARMARKED CONTRIBUTION: SEE BELOW   SA17A   1029414   \n",
       "1          NaN     NaN  * EARMARKED CONTRIBUTION: SEE BELOW   SA17A   1029414   \n",
       "2          NaN     NaN  * EARMARKED CONTRIBUTION: SEE BELOW   SA17A   1029414   \n",
       "3          NaN     NaN  * EARMARKED CONTRIBUTION: SEE BELOW   SA17A   1029414   \n",
       "4          NaN     NaN                                  NaN   SA17A   1029414   \n",
       "\n",
       "       tran_id election_tp  \n",
       "0  VPF7BETMZC9       P2016  \n",
       "1  VPF7BEZ11H8       P2016  \n",
       "2  VPF7BEYTAX6       P2016  \n",
       "3  VPF7BEYZ989       P2016  \n",
       "4  VPF7BFBQNF2       P2016  "
      ]
     },
     "execution_count": 32,
     "metadata": {},
     "output_type": "execute_result"
    }
   ],
   "source": [
    "data.head()"
   ]
  },
  {
   "cell_type": "code",
   "execution_count": 33,
   "metadata": {
    "collapsed": false
   },
   "outputs": [
    {
     "data": {
      "text/plain": [
       "<matplotlib.axes._subplots.AxesSubplot at 0x110812c50>"
      ]
     },
     "execution_count": 33,
     "metadata": {},
     "output_type": "execute_result"
    },
    {
     "data": {
      "image/png": "[encoded data removed]",
      "text/plain": [
       "<matplotlib.figure.Figure at 0x110c6d290>"
      ]
     },
     "metadata": {},
     "output_type": "display_data"
    }
   ],
   "source": [
    "total_donations = data.groupby(\"cand_nm\").sum().sort(\"contb_receipt_amt\")\n",
    "total_donations[\"contb_receipt_amt\"].plot(kind=\"barh\")"
   ]
  },
  {
   "cell_type": "code",
   "execution_count": 106,
   "metadata": {
    "collapsed": false
   },
   "outputs": [
    {
     "data": {
      "text/plain": [
       "<matplotlib.axes._subplots.AxesSubplot at 0x116e7e910>"
      ]
     },
     "execution_count": 106,
     "metadata": {},
     "output_type": "execute_result"
    },
    {
     "data": {
      "image/png": "[encoded data removed]",
      "text/plain": [
       "<matplotlib.figure.Figure at 0x1171907d0>"
      ]
     },
     "metadata": {},
     "output_type": "display_data"
    }
   ],
   "source": [
    "#trump and hillary!\n",
    "tnh = data[data[\"cand_nm\"].isin(['Clinton, Hillary Rodham', 'Trump, Donald J.'])]\n",
    "# Donabtions by state\n",
    "donations_city = tnh.groupby([\"cand_nm\"]).sum().sort(\"contb_receipt_amt\")\n",
    "donations_city[\"contb_receipt_amt\"].plot(kind=\"barh\")"
   ]
  }
 ],
 "metadata": {
  "kernelspec": {
   "display_name": "Python 2",
   "language": "python",
   "name": "python2"
  },
  "language_info": {
   "codemirror_mode": {
    "name": "ipython",
    "version": 2
   },
   "file_extension": ".py",
   "mimetype": "text/x-python",
   "name": "python",
   "nbconvert_exporter": "python",
   "pygments_lexer": "ipython2",
   "version": "2.7.10"
  }
 },
 "nbformat": 4,
 "nbformat_minor": 0
}
